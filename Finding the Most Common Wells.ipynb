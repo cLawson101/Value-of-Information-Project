{
 "cells": [
  {
   "cell_type": "code",
   "execution_count": 1,
   "metadata": {},
   "outputs": [],
   "source": [
    "import numpy as np\n",
    "import pandas as pd\n",
    "\n",
    "from pandas import read_excel"
   ]
  },
  {
   "cell_type": "code",
   "execution_count": 5,
   "metadata": {},
   "outputs": [
    {
     "name": "stdout",
     "output_type": "stream",
     "text": [
      "     WellName  unique_core_descriptions.csv  unique_core_photos.csv  \\\n",
      "0  6507_7_A_9                             0                       0   \n",
      "1   34_11_4T2                             0                       0   \n",
      "2   7219_12_1                             0                       0   \n",
      "3      8_10_2                             0                       0   \n",
      "4  6608_10_14                             0                       0   \n",
      "\n",
      "   unique_discovery.csv  unique_GEOLINK.csv  unique_Norwegian_shows_v2.csv  \\\n",
      "0                     0                   0                              0   \n",
      "1                     0                   0                              0   \n",
      "2                     0                   0                              0   \n",
      "3                     0                   0                              0   \n",
      "4                     0                   0                              0   \n",
      "\n",
      "   unique_public_core_images_excel_recording.csv  \\\n",
      "0                                              0   \n",
      "1                                              0   \n",
      "2                                              0   \n",
      "3                                              0   \n",
      "4                                              0   \n",
      "\n",
      "   unique_RealLogs_Por_Perm.csv  unique_RealLogs_completion.csv  \\\n",
      "0                             0                               0   \n",
      "1                             0                               0   \n",
      "2                             0                               0   \n",
      "3                             0                               0   \n",
      "4                             0                               0   \n",
      "\n",
      "   unique_stratigraphic_picks.csv  Occurances  \n",
      "0                               0           0  \n",
      "1                               0           0  \n",
      "2                               0           0  \n",
      "3                               0           0  \n",
      "4                               0           0  \n"
     ]
    }
   ],
   "source": [
    "file_name = 'All_Unique_Wells.csv' # name of your excel file\n",
    "df = pd.read_csv(file_name)\n",
    "df = df.drop(\"Unnamed: 0\", axis = 1)\n",
    "df = df.drop(\"Occurances\", axis = 1)\n",
    "df['unique_core_descriptions.csv'] = 0\n",
    "df['unique_core_photos.csv'] = 0\n",
    "df['unique_discovery.csv'] = 0\n",
    "df['unique_GEOLINK.csv'] = 0\n",
    "df['unique_Norwegian_shows_v2.csv'] = 0\n",
    "df['unique_public_core_images_excel_recording.csv'] = 0\n",
    "df['unique_RealLogs_Por_Perm.csv'] = 0\n",
    "df['unique_RealLogs_completion.csv'] = 0\n",
    "df['unique_stratigraphic_picks.csv'] = 0\n",
    "df['Occurances'] = 0\n",
    "print(df.head())"
   ]
  },
  {
   "cell_type": "code",
   "execution_count": 7,
   "metadata": {},
   "outputs": [
    {
     "name": "stderr",
     "output_type": "stream",
     "text": [
      "C:\\Users\\lawso\\AppData\\Local\\Continuum\\anaconda3\\lib\\site-packages\\ipykernel_launcher.py:20: SettingWithCopyWarning: \n",
      "A value is trying to be set on a copy of a slice from a DataFrame\n",
      "\n",
      "See the caveats in the documentation: http://pandas.pydata.org/pandas-docs/stable/user_guide/indexing.html#returning-a-view-versus-a-copy\n",
      "C:\\Users\\lawso\\AppData\\Local\\Continuum\\anaconda3\\lib\\site-packages\\ipykernel_launcher.py:21: SettingWithCopyWarning: \n",
      "A value is trying to be set on a copy of a slice from a DataFrame\n",
      "\n",
      "See the caveats in the documentation: http://pandas.pydata.org/pandas-docs/stable/user_guide/indexing.html#returning-a-view-versus-a-copy\n"
     ]
    }
   ],
   "source": [
    "files_to_visit = ['unique_core_descriptions.csv',\n",
    "                 'unique_core_photos.csv',\n",
    "                 'unique_discovery.csv',\n",
    "                 'unique_GEOLINK.csv',\n",
    "                 'unique_Norwegian_shows_v2.csv',\n",
    "                 'unique_public_core_images_excel_recording.csv',\n",
    "                 'unique_RealLogs_Por_Perm.csv',\n",
    "                 'unique_RealLogs_completion.csv',\n",
    "                 'unique_stratigraphic_picks.csv']\n",
    "\n",
    "extention = 'Unique excels\\\\\\\\'\n",
    "\n",
    "for i in range(0,len(df)):\n",
    "    wellName = df['WellName'][i]\n",
    "    for j in range (0, len(files_to_visit)):\n",
    "        file = extention + files_to_visit[j]\n",
    "        curDF = pd.read_csv(file)\n",
    "        for k in range (0, len(curDF)):\n",
    "            if (curDF['WellName'][k] == wellName):\n",
    "                df[files_to_visit[j]][i] = 1\n",
    "                df['Occurances'][i] += 1\n",
    "                break\n",
    "\n",
    "df.to_csv(\"All_Unique_Wells_and_Occurances.csv\")\n",
    "        \n",
    "        \n",
    "        \n"
   ]
  },
  {
   "cell_type": "code",
   "execution_count": null,
   "metadata": {},
   "outputs": [],
   "source": []
  }
 ],
 "metadata": {
  "kernelspec": {
   "display_name": "Python 3",
   "language": "python",
   "name": "python3"
  },
  "language_info": {
   "codemirror_mode": {
    "name": "ipython",
    "version": 3
   },
   "file_extension": ".py",
   "mimetype": "text/x-python",
   "name": "python",
   "nbconvert_exporter": "python",
   "pygments_lexer": "ipython3",
   "version": "3.7.4"
  }
 },
 "nbformat": 4,
 "nbformat_minor": 2
}
