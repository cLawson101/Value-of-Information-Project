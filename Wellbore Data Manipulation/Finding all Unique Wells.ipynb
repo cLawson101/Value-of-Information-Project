{
 "cells": [
  {
   "cell_type": "markdown",
   "metadata": {},
   "source": [
    "# Finding All Unique Wells\n",
    "\n",
    "\n",
    "This file is going to parse through all of the wellbore data to find all the unique wells that are being used. The reason why we do this is to make sure that no well is counted more than once. Otherwise we may messing up the overall data.\n",
    "\n",
    "The way we are going to do this is by going through each of the different files and extract all the unique well names and store them in new files. Then off of these files, the program will determine all the unique wells for all the given data."
   ]
  },
  {
   "cell_type": "markdown",
   "metadata": {},
   "source": [
    "### Helper Functions"
   ]
  },
  {
   "cell_type": "markdown",
   "metadata": {},
   "source": [
    "Before we start parsing the data, we need to initialize some functions that will help deal with the way that wellbore names are saved in each of the different wellbore data files."
   ]
  },
  {
   "cell_type": "code",
   "execution_count": 1,
   "metadata": {},
   "outputs": [],
   "source": [
    "# A function that takes in a string containing the characters: \"/\" or \"-\"\n",
    "# and replaces it with blank spaces\n",
    "\n",
    "def formatWellName1(name):\n",
    "    temp = name\n",
    "    temp = temp.replace(\"/\", \"_\")\n",
    "    temp = temp.replace(\"-\", \"_\")\n",
    "    \n",
    "    space = 0\n",
    "    for i in range(0,len(temp)):\n",
    "        if(temp[i] == ' '):\n",
    "            break\n",
    "        space += 1\n",
    "    if(space != len(temp)):\n",
    "        temp = temp[0:space]\n",
    "    \n",
    "    return temp"
   ]
  },
  {
   "cell_type": "code",
   "execution_count": 2,
   "metadata": {},
   "outputs": [],
   "source": [
    "# A function that will in a string and will cut out everything up until it finds\n",
    "# \"__\"\n",
    "\n",
    "def formatWellName2(name):\n",
    "    temp = name\n",
    "    lastNum = temp.find(\"__\")\n",
    "            \n",
    "    temp = temp[0:lastNum]\n",
    "    \n",
    "    return temp"
   ]
  },
  {
   "cell_type": "code",
   "execution_count": 3,
   "metadata": {},
   "outputs": [],
   "source": [
    "import numpy as np\n",
    "import pandas as pd\n",
    "\n",
    "from pandas import read_excel\n",
    "\n",
    "# Change this to whatever extension you need to work on your machine\n",
    "extension = \"Wellbore_Data\\\\\""
   ]
  },
  {
   "cell_type": "markdown",
   "metadata": {},
   "source": [
    "Now we start combing through the different wellbore datasheets to get the unique wells from the wellbore data. \n",
    "\n",
    "The way we do this is by going through the given file, looking at the column containing the wellbore name, and storing it in a separate dataframe containing the unique wellbore names for that given file.\n",
    "\n",
    "Before inserting the current wellbore name into the list of unique wellbore names, the program will check to make sure the name is not already present. If it is, then it won't be inserted, if it's not, then it will be ignored."
   ]
  },
  {
   "cell_type": "code",
   "execution_count": 4,
   "metadata": {
    "scrolled": false
   },
   "outputs": [],
   "source": [
    "# Dealing with the core images\n",
    "\n",
    "file_name = extension + 'public_core_images_excel_recording.xlsx'\n",
    "df = read_excel(file_name)\n",
    "\n",
    "# This will store the unique names of the current file that will then be\n",
    "# turned into an dataframe.\n",
    "unique = set([])\n",
    "\n",
    "# Because of the way that wellbore names are stored in these files, we need\n",
    "# to use the function to format the name into a more easily manageble state.\n",
    "for i in range (0, len(df)):\n",
    "    wellName = df[\"6406_3_2\"][i]\n",
    "    unique.add(formatWellName1(str(wellName)))\n",
    "    \n",
    "# By this point, unique, will contain a set of all the unique names of the file\n",
    "# so it will just put all that data into a dataframe that will then be exported\n",
    "# to an excel sheet.\n",
    "\n",
    "exportDF = pd.DataFrame(columns = ['WellName'])\n",
    "temp = list(unique)\n",
    "for i in range(0, len(temp)):\n",
    "    exportDF = exportDF.append({'WellName': temp[i]}, ignore_index = True)\n",
    "\n",
    "exportDF.to_csv(\"unique_public_core_images_excel_recording.csv\")"
   ]
  },
  {
   "cell_type": "markdown",
   "metadata": {},
   "source": [
    "After this cell, everything is the same."
   ]
  },
  {
   "cell_type": "code",
   "execution_count": 5,
   "metadata": {},
   "outputs": [],
   "source": [
    "# Dealing with the core photos\n",
    "\n",
    "file_name = extension + 'core_photos.xlsx'\n",
    "df = read_excel(file_name)\n",
    "\n",
    "unique = set([])\n",
    "\n",
    "for i in range (0, len(df)):\n",
    "    wellName = df[\"Well Name\"][i]\n",
    "    unique.add(formatWellName1(str(wellName)))\n",
    "\n",
    "exportDF = pd.DataFrame(columns = ['WellName'])\n",
    "temp = list(unique)\n",
    "for i in range(0, len(temp)):\n",
    "    exportDF = exportDF.append({'WellName': temp[i]}, ignore_index = True)\n",
    "\n",
    "exportDF.to_csv(\"unique_core_photos.csv\")"
   ]
  },
  {
   "cell_type": "code",
   "execution_count": 6,
   "metadata": {},
   "outputs": [],
   "source": [
    "# Dealing with the core descriptions\n",
    "\n",
    "file_name = extension + 'Digitized_core_descriptions.xlsx'\n",
    "df = read_excel(file_name)\n",
    "\n",
    "unique = set([])\n",
    "\n",
    "for i in range (0, len(df)):\n",
    "    wellName = df[\"WellName\"][i]\n",
    "    unique.add(formatWellName1(str(wellName)))\n",
    "\n",
    "exportDF = pd.DataFrame(columns = ['WellName'])\n",
    "temp = list(unique)\n",
    "for i in range(0, len(temp)):\n",
    "    exportDF = exportDF.append({'WellName': temp[i]}, ignore_index = True)\n",
    "\n",
    "exportDF.to_csv(\"unique_core_descriptions.csv\")"
   ]
  },
  {
   "cell_type": "code",
   "execution_count": 7,
   "metadata": {},
   "outputs": [],
   "source": [
    "# Dealing with the lithology reports\n",
    "\n",
    "file_name = extension + 'GEOLINK_Lithology.xlsx'\n",
    "df = read_excel(file_name)\n",
    "\n",
    "unique = set([])\n",
    "\n",
    "for i in range (0, len(df)):\n",
    "    wellName = df[\"Well Name\"][i]\n",
    "    unique.add(formatWellName1(str(wellName)))\n",
    "\n",
    "exportDF = pd.DataFrame(columns = ['WellName'])\n",
    "temp = list(unique)\n",
    "for i in range(0, len(temp)):\n",
    "    exportDF = exportDF.append({'WellName': temp[i]}, ignore_index = True)\n",
    "\n",
    "exportDF.to_csv(\"unique_GEOLINK.csv\")"
   ]
  },
  {
   "cell_type": "code",
   "execution_count": 8,
   "metadata": {},
   "outputs": [],
   "source": [
    "# Dealing with the NPD reports\n",
    "\n",
    "file_name = extension + 'NPD_stratigraphic_picks_north_sea.xlsx' \n",
    "df = read_excel(file_name)\n",
    "\n",
    "unique = set([])\n",
    "\n",
    "for i in range (0, len(df)):\n",
    "    wellName = df[\"Well identifier\"][i]\n",
    "    unique.add(formatWellName1(str(wellName)))\n",
    "\n",
    "exportDF = pd.DataFrame(columns = ['WellName'])\n",
    "temp = list(unique)\n",
    "for i in range(0, len(temp)):\n",
    "    exportDF = exportDF.append({'WellName': temp[i]}, ignore_index = True)\n",
    "\n",
    "exportDF.to_csv(\"unique_GEOLINK.csv\")"
   ]
  },
  {
   "cell_type": "code",
   "execution_count": 9,
   "metadata": {},
   "outputs": [],
   "source": [
    "# Dealing with a different set of completion logs\n",
    "\n",
    "file_name = extension + 'RealLogs_completion_logs.xlsx' \n",
    "df = read_excel(file_name)\n",
    "\n",
    "unique = set([])\n",
    "\n",
    "for i in range (0, len(df)):\n",
    "    wellName = df[\"Well Name\"][i]\n",
    "    unique.add(formatWellName1(str(wellName)))\n",
    "\n",
    "exportDF = pd.DataFrame(columns = ['WellName'])\n",
    "temp = list(unique)\n",
    "for i in range(0, len(temp)):\n",
    "    exportDF = exportDF.append({'WellName': temp[i]}, ignore_index = True)\n",
    "\n",
    "exportDF.to_csv(\"unique_RealLogs_completion.csv\")"
   ]
  },
  {
   "cell_type": "code",
   "execution_count": 10,
   "metadata": {},
   "outputs": [],
   "source": [
    "# Dealing with more lithology reports\n",
    "\n",
    "file_name = extension + 'RealPore_Por_Perm_Lithology_data_1240_Wells_Norway_public.xlsx'\n",
    "df = read_excel(file_name)\n",
    "\n",
    "unique = set([])\n",
    "\n",
    "for i in range (0, len(df)):\n",
    "    wellName = df[\"Well Name\"][i]\n",
    "    unique.add(formatWellName1(str(wellName)))\n",
    "\n",
    "exportDF = pd.DataFrame(columns = ['WellName'])\n",
    "temp = list(unique)\n",
    "for i in range(0, len(temp)):\n",
    "    exportDF = exportDF.append({'WellName': temp[i]}, ignore_index = True)\n",
    "\n",
    "exportDF.to_csv(\"unique_RealLogs_Por_Perm.csv\")"
   ]
  },
  {
   "cell_type": "code",
   "execution_count": 11,
   "metadata": {},
   "outputs": [],
   "source": [
    "# Dealing with unsorted Wellbore data\n",
    "\n",
    "file_name = extension + 'Discovery_v1.xlsx'\n",
    "df = read_excel(file_name)\n",
    "\n",
    "unique = set([])\n",
    "\n",
    "for i in range (0, len(df)):\n",
    "    wellName = df[\"dscName\"][i]\n",
    "    unique.add(formatWellName1(str(wellName)))\n",
    "\n",
    "exportDF = pd.DataFrame(columns = ['WellName'])\n",
    "temp = list(unique)\n",
    "for i in range(0, len(temp)):\n",
    "    exportDF = exportDF.append({'WellName': temp[i]}, ignore_index = True)\n",
    "\n",
    "exportDF.to_csv(\"unique_discovery.csv\")\n"
   ]
  },
  {
   "cell_type": "code",
   "execution_count": 12,
   "metadata": {},
   "outputs": [],
   "source": [
    "file_name = extension + 'Norwegian_shows__All_data__CC-BY_v1.xlsx'\n",
    "df = read_excel(file_name)\n",
    "\n",
    "unique = set([])\n",
    "\n",
    "for i in range (0, len(df)):\n",
    "    wellName = df[\"Filename\"][i]\n",
    "    unique.add(formatWellName2(str(wellName)))\n",
    "\n",
    "exportDF = pd.DataFrame(columns = ['WellName'])\n",
    "temp = list(unique)\n",
    "for i in range(0, len(temp)):\n",
    "    exportDF = exportDF.append({'WellName': temp[i]}, ignore_index = True)\n",
    "\n",
    "exportDF.to_csv(\"unique_Norwegian_shows.csv\")\n"
   ]
  },
  {
   "cell_type": "markdown",
   "metadata": {},
   "source": [
    "Now the last thing this notebook will do is set up the dataframe for the next notebook, Finding the Most Common Wells, to do it's work.\n",
    "\n",
    "The program will compile a list of all the unique wells throughout all the data and set up a blank dataframe that will contain all the unique wells and columns representing all the different files the data came from."
   ]
  },
  {
   "cell_type": "code",
   "execution_count": 13,
   "metadata": {},
   "outputs": [],
   "source": [
    "files_to_read = ['unique_core_descriptions.csv',\n",
    "                 'unique_core_photos.csv',\n",
    "                 'unique_discovery.csv',\n",
    "                 'unique_GEOLINK.csv',\n",
    "                 'unique_Norwegian_shows_v2.csv',\n",
    "                 'unique_public_core_images_excel_recording.csv',\n",
    "                 'unique_RealLogs_Por_Perm.csv',\n",
    "                 'unique_RealLogs_completion.csv',\n",
    "                 'unique_stratigraphic_picks.csv']\n",
    "temp_extension = 'Unique_excels\\\\'\n",
    "\n",
    "unique = set([])\n",
    "\n",
    "# Here we are going through all the different unique files that were generated\n",
    "# in the previous cells, and find all the unique wells from those lists.\n",
    "for i in range (0, len(files_to_read)):\n",
    "    file = temp_extension + files_to_read[i]\n",
    "    df = pd.read_csv(file)\n",
    "\n",
    "    for i in range (0, len(df)):\n",
    "        wellName = df[\"WellName\"][i]\n",
    "        unique.add(formatWellName1(str(wellName)))\n",
    "\n",
    "# At this point, unique will contain all the unique well names. So now to construct\n",
    "# the blank dataframe\n",
    "exportDF = pd.DataFrame(columns = ['WellName'])\n",
    "temp = list(unique)\n",
    "\n",
    "# Lastly, insert all the unique well names into a dataframe and then export.\n",
    "for i in range(0, len(temp)):\n",
    "    exportDF = exportDF.append({'WellName': temp[i], 'Occurances': 0}, ignore_index = True)\n",
    "\n",
    "exportDF.to_csv(\"All_Unique_Wells_blank.csv\")"
   ]
  }
 ],
 "metadata": {
  "kernelspec": {
   "display_name": "Python 3",
   "language": "python",
   "name": "python3"
  },
  "language_info": {
   "codemirror_mode": {
    "name": "ipython",
    "version": 3
   },
   "file_extension": ".py",
   "mimetype": "text/x-python",
   "name": "python",
   "nbconvert_exporter": "python",
   "pygments_lexer": "ipython3",
   "version": "3.7.4"
  }
 },
 "nbformat": 4,
 "nbformat_minor": 2
}
