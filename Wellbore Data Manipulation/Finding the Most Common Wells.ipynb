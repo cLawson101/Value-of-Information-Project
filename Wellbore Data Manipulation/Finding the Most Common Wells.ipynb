{
 "cells": [
  {
   "cell_type": "markdown",
   "metadata": {},
   "source": [
    "# Finding the Most Common Wells\n",
    "\n",
    "Here in this file, we will be finding out which files a given well appeared in. This is to try to find out which wells contain the more important data. This would help us to make sure we are only considering wells with valuable information.\n",
    "\n",
    "The way that we will present this is by showing in which files a given well has appeared in."
   ]
  },
  {
   "cell_type": "code",
   "execution_count": 2,
   "metadata": {},
   "outputs": [],
   "source": [
    "import numpy as np\n",
    "import pandas as pd\n",
    "\n",
    "from pandas import read_excel"
   ]
  },
  {
   "cell_type": "code",
   "execution_count": 3,
   "metadata": {},
   "outputs": [],
   "source": [
    "# Here read in the blank sheet that was created in the previous file, \n",
    "# Finding All Unique Wells.\n",
    "\n",
    "# We will make some tweeks to it to make it suitable to this files needs.\n",
    "# Here we will remove one of the columns that it previously had and inserting\n",
    "# a column that represents all the different files that a well could appear in.\n",
    "\n",
    "file_name = 'All_Unique_Wells_blank.csv'\n",
    "df = pd.read_csv(file_name)\n",
    "df = df.drop(\"Unnamed: 0\", axis = 1)\n",
    "df = df.drop(\"Occurances\", axis = 1)\n",
    "df['unique_core_descriptions.csv'] = 0\n",
    "df['unique_core_photos.csv'] = 0\n",
    "df['unique_discovery.csv'] = 0\n",
    "df['unique_GEOLINK.csv'] = 0\n",
    "df['unique_Norwegian_shows_v2.csv'] = 0\n",
    "df['unique_public_core_images_excel_recording.csv'] = 0\n",
    "df['unique_RealLogs_Por_Perm.csv'] = 0\n",
    "df['unique_RealLogs_completion.csv'] = 0\n",
    "df['unique_stratigraphic_picks.csv'] = 0\n",
    "df['Occurances'] = 0"
   ]
  },
  {
   "cell_type": "markdown",
   "metadata": {},
   "source": [
    "The way we will be showing if a well has been in a file or not is by using a 1 to show that the well does appear in that file represented by that column and a 0 showing that it's not.\n",
    "\n",
    "For example, if the well 7019_1_1 only appeared in the file RealLogs_Por_Perm, then it will have a 1 in the unique_RealLogs_Por_Perm column and 0's everywhere else."
   ]
  },
  {
   "cell_type": "code",
   "execution_count": 5,
   "metadata": {},
   "outputs": [
    {
     "name": "stderr",
     "output_type": "stream",
     "text": [
      "C:\\Users\\lawso\\AppData\\Local\\Continuum\\anaconda3\\lib\\site-packages\\ipykernel_launcher.py:25: SettingWithCopyWarning: \n",
      "A value is trying to be set on a copy of a slice from a DataFrame\n",
      "\n",
      "See the caveats in the documentation: http://pandas.pydata.org/pandas-docs/stable/user_guide/indexing.html#returning-a-view-versus-a-copy\n",
      "C:\\Users\\lawso\\AppData\\Local\\Continuum\\anaconda3\\lib\\site-packages\\ipykernel_launcher.py:26: SettingWithCopyWarning: \n",
      "A value is trying to be set on a copy of a slice from a DataFrame\n",
      "\n",
      "See the caveats in the documentation: http://pandas.pydata.org/pandas-docs/stable/user_guide/indexing.html#returning-a-view-versus-a-copy\n"
     ]
    }
   ],
   "source": [
    "files_to_visit = ['unique_core_descriptions.csv',\n",
    "                 'unique_core_photos.csv',\n",
    "                 'unique_discovery.csv',\n",
    "                 'unique_GEOLINK.csv',\n",
    "                 'unique_Norwegian_shows_v2.csv',\n",
    "                 'unique_public_core_images_excel_recording.csv',\n",
    "                 'unique_RealLogs_Por_Perm.csv',\n",
    "                 'unique_RealLogs_completion.csv',\n",
    "                 'unique_stratigraphic_picks.csv']\n",
    "\n",
    "extention = 'Unique_excels\\\\'\n",
    "\n",
    "# This triple loop will first loop through the dataframe that will record \n",
    "# the wellbore occurance information. This well will be referred to as \"wellName.\"\"\n",
    "# It will then loop through all the files_to_visit looking to see if the current well \n",
    "# is in it. If it is in that file then the program will change the column corresponding\n",
    "# to that file to a 1. Then it will update the Occurances column by one.\n",
    "for i in range(0,len(df)):\n",
    "    wellName = df['WellName'][i]\n",
    "    for j in range (0, len(files_to_visit)):\n",
    "        file = extention + files_to_visit[j]\n",
    "        curDF = pd.read_csv(file)\n",
    "        for k in range (0, len(curDF)):\n",
    "            if (curDF['WellName'][k] == wellName):\n",
    "                df[files_to_visit[j]][i] = 1\n",
    "                df['Occurances'][i] += 1\n",
    "                break\n",
    "\n",
    "df.to_csv(\"All_Unique_Wells_and_Occurances.csv\")"
   ]
  }
 ],
 "metadata": {
  "kernelspec": {
   "display_name": "Python 3",
   "language": "python",
   "name": "python3"
  },
  "language_info": {
   "codemirror_mode": {
    "name": "ipython",
    "version": 3
   },
   "file_extension": ".py",
   "mimetype": "text/x-python",
   "name": "python",
   "nbconvert_exporter": "python",
   "pygments_lexer": "ipython3",
   "version": "3.7.4"
  }
 },
 "nbformat": 4,
 "nbformat_minor": 2
}
